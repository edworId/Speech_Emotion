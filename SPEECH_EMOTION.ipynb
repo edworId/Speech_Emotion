{
  "cells": [
    {
      "cell_type": "markdown",
      "metadata": {
        "id": "7th28u4xpMUP"
      },
      "source": [
        "# **LIBRIRIES**"
      ]
    },
    {
      "cell_type": "code",
      "execution_count": 2,
      "metadata": {
        "id": "XNMaB4xFpJFr"
      },
      "outputs": [],
      "source": [
        "        ## DADOS ##\n",
        "\n",
        "import os\n",
        "import cv2\n",
        "import keras\n",
        "import pickle\n",
        "import random\n",
        "import shutil\n",
        "import librosa\n",
        "import numpy as np\n",
        "from PIL import Image\n",
        "from librosa import display\n",
        "import matplotlib.pyplot as plt\n",
        "\n",
        "        ## NEURAL NETWORK ##\n",
        "\n",
        "from keras.models import Model\n",
        "from keras.models import Sequential\n",
        "from keras.layers import Conv2D, MaxPooling2D, Flatten, Dense\n",
        "from tensorflow.keras.applications import Xception\n",
        "from tensorflow.keras.applications.vgg16 import VGG16\n",
        "from tensorflow.keras.applications.vgg19 import VGG19\n",
        "from tensorflow.keras.applications import ResNet50"
      ]
    },
    {
      "cell_type": "markdown",
      "metadata": {
        "id": "yXoOBWNLlveE"
      },
      "source": [
        "# **AUDIOS**"
      ]
    },
    {
      "cell_type": "markdown",
      "metadata": {
        "id": "o3JdRLv0npAs"
      },
      "source": [
        "#### **SONG**"
      ]
    },
    {
      "cell_type": "code",
      "execution_count": null,
      "metadata": {
        "id": "1VUAhHF0nycm"
      },
      "outputs": [],
      "source": [
        "         ### CRIAR AS PASTAS NECESSÁRIAS!!! ###\n",
        "\n",
        "classes_dir = ['neutral','calm','happy','sad','angry','fear','disgust','surprised','song', 'speech']\n",
        "\n",
        "\n",
        "for category in classes_dir:\n",
        "    if not os.path.isdir(category):\n",
        "        os.makedirs(category)\n",
        "        print(\"Pasta \" + category + \" foi criada!!\")\n",
        "    else:\n",
        "        print(\"Pasta \" + category + \" já criada!!\")\n",
        "\n",
        "!unzip \"/content/drive/MyDrive/PROJETOS/RAV_song.zip\" -d \"/content/song\"  ## UNZIP AUDIOS"
      ]
    },
    {
      "cell_type": "code",
      "execution_count": null,
      "metadata": {
        "id": "cygr0QKwgJvP"
      },
      "outputs": [],
      "source": [
        "path = \"/content/song\"\n",
        "pathfiles = os.listdir(path)\n",
        "for files in pathfiles:\n",
        "    subfiles = os.path.join(path, files)\n",
        "    audios = os.listdir(subfiles)\n",
        "    for so in audios:\n",
        "        files_song = os.path.join(subfiles, so)\n",
        "        emo_label = files_song[30]\n",
        "        if emo_label == '1':\n",
        "            shutil.copy(files_song, \"/content/neutral\")\n",
        "        if emo_label == '2':\n",
        "            shutil.copy(files_song, \"/content/calm\")\n",
        "        if emo_label == '3':\n",
        "            shutil.copy(files_song, \"/content/happy\")\n",
        "        if emo_label == '4':\n",
        "            shutil.copy(files_song, \"/content/sad\")\n",
        "        if emo_label == '5':\n",
        "            shutil.copy(files_song, \"/content/angry\")\n",
        "        if emo_label == '6':\n",
        "            shutil.copy(files_song, \"/content/fear\")\n",
        "        #if emo_label == '7':\n",
        "            #shutil.copy(files_song, \"/content/disgust\")       ## NÃO TEM!!\n",
        "        #if emo_label == '8':\n",
        "            #shutil.copy(files_song, \"/content/surprised\")"
      ]
    },
    {
      "cell_type": "markdown",
      "metadata": {
        "id": "XKnYrd14nz3T"
      },
      "source": [
        "#### **SPEECH**"
      ]
    },
    {
      "cell_type": "code",
      "execution_count": null,
      "metadata": {
        "id": "aLwB6OuOdKwF"
      },
      "outputs": [],
      "source": [
        "         ### CRIAR AS PASTAS NECESSÁRIAS!!! ###\n",
        "\n",
        "classes_dir = ['neutral','calm','happy','sad','angry','fear','disgust','surprised','song', 'speech']\n",
        "\n",
        "\n",
        "for category in classes_dir:\n",
        "    if not os.path.isdir(category):\n",
        "        os.makedirs(category)\n",
        "        print(\"Pasta \" + category + \" foi criada!!\")\n",
        "    else:\n",
        "        print(\"Pasta \" + category + \" já criada!!\")\n",
        "\n",
        "!unzip \"/content/drive/MyDrive/PROJETOS/RAV_speech.zip\" -d \"/content/speech\"  ## UNZIP AUDIOS"
      ]
    },
    {
      "cell_type": "code",
      "execution_count": null,
      "metadata": {
        "id": "lTmmfQchdRhU"
      },
      "outputs": [],
      "source": [
        "path_speech = \"/content/speech\"\n",
        "pathfiles_speech = os.listdir(path_speech)\n",
        "for files_speech in pathfiles_speech:\n",
        "    subfiles_speech = os.path.join(path_speech, files_speech)\n",
        "    audios_speech = os.listdir(subfiles_speech)\n",
        "    for so_speech in audios_speech:\n",
        "        files_speech = os.path.join(subfiles_speech, so_speech)\n",
        "        emo_label = files_speech[32]\n",
        "        if emo_label == '1':\n",
        "            shutil.copy(files_speech, \"/content/neutral\")\n",
        "        if emo_label == '2':\n",
        "            shutil.copy(files_speech, \"/content/calm\")\n",
        "        if emo_label == '3':\n",
        "            shutil.copy(files_speech, \"/content/happy\")\n",
        "        if emo_label == '4':\n",
        "            shutil.copy(files_speech, \"/content/sad\")\n",
        "        if emo_label == '5':\n",
        "            shutil.copy(files_speech, \"/content/angry\")\n",
        "        if emo_label == '6':\n",
        "            shutil.copy(files_speech, \"/content/fear\")\n",
        "        if emo_label == '7':\n",
        "            shutil.copy(files_speech, \"/content/disgust\")       \n",
        "        if emo_label == '8':\n",
        "            shutil.copy(files_speech, \"/content/surprised\")"
      ]
    },
    {
      "cell_type": "code",
      "execution_count": null,
      "metadata": {
        "id": "h9T-qaWKg1Jl"
      },
      "outputs": [],
      "source": [
        "shutil.copy(files_speech, \"/content/neutral\")\n",
        "shutil.copy(files_speech, \"/content/neutral\")\n",
        "shutil.copy(files_speech, \"/content/neutral\")\n",
        "shutil.copy(files_speech, \"/content/neutral\")\n",
        "shutil.copy(files_speech, \"/content/neutral\")\n",
        "shutil.copy(files_speech, \"/content/neutral\")\n",
        "shutil.copy(files_speech, \"/content/neutral\")\n",
        "shutil.copy(files_speech, \"/content/neutral\")"
      ]
    },
    {
      "cell_type": "code",
      "execution_count": null,
      "metadata": {
        "id": "Ppfeefb0bmQK"
      },
      "outputs": [],
      "source": [
        "!zip -r neutral.zip neutral/\n",
        "!zip -r calm.zip calm/\n",
        "!zip -r happy.zip happy/\n",
        "!zip -r fear.zip fear/\n",
        "!zip -r angry.zip angry/\n",
        "!zip -r sad.zip sad/\n",
        "!zip -r disgust.zip disgust/\n",
        "!zip -r surprised.zip surprised/"
      ]
    },
    {
      "cell_type": "code",
      "execution_count": null,
      "metadata": {
        "id": "QtJhiayDcVdw"
      },
      "outputs": [],
      "source": [
        "!cp neutral.zip \"/content/drive/MyDrive/PROJETOS\"\n",
        "!cp calm.zip \"/content/drive/MyDrive/PROJETOS\"\n",
        "!cp happy.zip \"/content/drive/MyDrive/PROJETOS\"\n",
        "!cp fear.zip \"/content/drive/MyDrive/PROJETOS\"\n",
        "!cp angry.zip \"/content/drive/MyDrive/PROJETOS\"\n",
        "!cp sad.zip \"/content/drive/MyDrive/PROJETOS\"  \n",
        "!cp disgust.zip \"/content/drive/MyDrive/PROJETOS\"\n",
        "!cp surprised.zip \"/content/drive/MyDrive/PROJETOS\"\n",
        "\n",
        "## SALVO!!! NÃO PRECISA CORRER MAIS O CÓDIGO ACIMA..."
      ]
    },
    {
      "cell_type": "markdown",
      "metadata": {
        "id": "duBwe7SlgtAg"
      },
      "source": [
        "# **MEL_SPECTOGRAMA**"
      ]
    },
    {
      "cell_type": "code",
      "execution_count": null,
      "metadata": {
        "id": "e-do0tNbgx1G"
      },
      "outputs": [],
      "source": [
        "!mkdir \"/content/emo_audios\"\n",
        "\n",
        "!unzip \"/content/drive/MyDrive/PROJETOS/neutral.zip\" -d \"/content/emo_audios\"  ## UNZIP AUDIOS\n",
        "!unzip \"/content/drive/MyDrive/PROJETOS/calm.zip\" -d \"/content/emo_audios\"  ## UNZIP AUDIOS\n",
        "!unzip \"/content/drive/MyDrive/PROJETOS/happy.zip\" -d \"/content/emo_audios\"  ## UNZIP AUDIOS\n",
        "!unzip \"/content/drive/MyDrive/PROJETOS/fear.zip\" -d \"/content/emo_audios\"  ## UNZIP AUDIOS\n",
        "!unzip \"/content/drive/MyDrive/PROJETOS/angry.zip\" -d \"/content/emo_audios\"  ## UNZIP AUDIOS\n",
        "!unzip \"/content/drive/MyDrive/PROJETOS/sad.zip\" -d \"/content/emo_audios\"  ## UNZIP AUDIOS\n",
        "!unzip \"/content/drive/MyDrive/PROJETOS/disgust.zip\" -d \"/content/emo_audios\"  ## UNZIP AUDIOS\n",
        "!unzip \"/content/drive/MyDrive/PROJETOS/surprised.zip\" -d \"/content/emo_audios\"  ## UNZIP AUDIOS\n"
      ]
    },
    {
      "cell_type": "code",
      "execution_count": null,
      "metadata": {
        "id": "7h1Fl2vYeYRn"
      },
      "outputs": [],
      "source": [
        "classes = ['neutral','calm','happy','sad','angry','fear','disgust','surprised']\n",
        "DATADIR = \"/content/emo_audios\"\n",
        "data = []\n",
        "\n",
        "for category in classes:\n",
        "    path = os.path.join(DATADIR, category)\n",
        "    label = classes.index(category)\n",
        "    files = os.listdir(path)\n",
        "    #print(path)\n",
        "    for audios in files:\n",
        "        #name = audios[:-4]\n",
        "        aud = os.path.join(path, audios)\n",
        "        X, sample_rate = librosa.load(aud, res_type='kaiser_fast')\n",
        "        mel_spec = librosa.feature.melspectrogram(y=X, sr=sample_rate, n_mels= 320)\n",
        "        mel_db = (librosa.power_to_db(mel_spec, ref=np.max) + 40)/40\n",
        "        img = cv2.resize(mel_db,(100,100))\n",
        "        img = cv2.cvtColor(img,cv2.COLOR_GRAY2RGB)\n",
        "        image = img.reshape(100,100,3)\n",
        "        data.append([image, label])\n",
        "        #break  ## Para ler um audio de cada emoção e testar abaixo\n",
        "    #break  ## Para ler um audio apenas"
      ]
    },
    {
      "cell_type": "code",
      "execution_count": null,
      "metadata": {
        "colab": {
          "base_uri": "https://localhost:8080/"
        },
        "id": "rTDugLewOQ0N",
        "outputId": "5008873e-71b6-46bc-d42d-3bd58cb509da"
      },
      "outputs": [
        {
          "data": {
            "text/plain": [
              "(100, 100, 3)"
            ]
          },
          "execution_count": 138,
          "metadata": {},
          "output_type": "execute_result"
        }
      ],
      "source": [
        "image.shape"
      ]
    },
    {
      "cell_type": "code",
      "execution_count": null,
      "metadata": {
        "id": "usiHmYjjhH-f"
      },
      "outputs": [],
      "source": [
        "random.shuffle(data)"
      ]
    },
    {
      "cell_type": "code",
      "execution_count": null,
      "metadata": {
        "id": "3YdeuXBehNDo"
      },
      "outputs": [],
      "source": [
        "data[60]"
      ]
    },
    {
      "cell_type": "code",
      "execution_count": null,
      "metadata": {
        "id": "SM1lmMwHhUCu"
      },
      "outputs": [],
      "source": [
        "X = []\n",
        "y = []\n",
        "\n",
        "for features, labels in data:\n",
        "    X.append(features)\n",
        "    y.append(labels)"
      ]
    },
    {
      "cell_type": "code",
      "execution_count": null,
      "metadata": {
        "colab": {
          "base_uri": "https://localhost:8080/"
        },
        "id": "q5S1ZY3jh01d",
        "outputId": "a019f82a-bf77-48e5-d4c9-0baa44e6c623"
      },
      "outputs": [
        {
          "data": {
            "text/plain": [
              "2452"
            ]
          },
          "execution_count": 143,
          "metadata": {},
          "output_type": "execute_result"
        }
      ],
      "source": [
        "X_train = np.array(X)\n",
        "y_train = np.array(y)\n",
        "len(X_train)"
      ]
    },
    {
      "cell_type": "code",
      "execution_count": null,
      "metadata": {
        "colab": {
          "base_uri": "https://localhost:8080/"
        },
        "id": "8G2hReNI9kKR",
        "outputId": "141261ba-fccf-405d-b92d-f7c0f58d1feb"
      },
      "outputs": [
        {
          "name": "stdout",
          "output_type": "stream",
          "text": [
            "(2452, 100, 100, 3)\n",
            "(2452,)\n"
          ]
        }
      ],
      "source": [
        "print(X_train.shape)\n",
        "print(y_train.shape)"
      ]
    },
    {
      "cell_type": "code",
      "execution_count": null,
      "metadata": {
        "colab": {
          "base_uri": "https://localhost:8080/"
        },
        "id": "mSb8yN1nmRbK",
        "outputId": "b06abdc5-b05b-4b88-8ba6-c07b63e58ef8"
      },
      "outputs": [
        {
          "data": {
            "text/plain": [
              "(2452, 100, 100, 3)"
            ]
          },
          "execution_count": 145,
          "metadata": {},
          "output_type": "execute_result"
        }
      ],
      "source": [
        "X_train.shape # (,100,100,3) (quantidade de imagens, tamanho, tamanho, 1 ou 3)"
      ]
    },
    {
      "cell_type": "markdown",
      "metadata": {
        "id": "9gLEZI8Dozum"
      },
      "source": [
        "#### **SAVE AND COPY**"
      ]
    },
    {
      "cell_type": "code",
      "execution_count": null,
      "metadata": {
        "id": "ggwQjRJDiCsg"
      },
      "outputs": [],
      "source": [
        "pickle.dump(X_train, open('data_train.pkl', 'wb'))\n",
        "pickle.dump(y_train, open('labels_train.pkl', 'wb'))\n",
        "\n",
        "# Salvos os dados processados"
      ]
    },
    {
      "cell_type": "code",
      "execution_count": null,
      "metadata": {
        "id": "F6LDC52aiJqy"
      },
      "outputs": [],
      "source": [
        "!cp data_train.pkl '/content/drive/MyDrive/PROJETOS'\n",
        "!cp labels_train.pkl '/content/drive/MyDrive/PROJETOS' \n",
        "\n",
        "# Copiados os dados processados no Drive, eles podem ser apenas carregados a partir daqui com Pickle;"
      ]
    },
    {
      "cell_type": "markdown",
      "metadata": {
        "id": "pTO6HyZXpD-U"
      },
      "source": [
        "#### **LOAD DATA WITH PICKLE**"
      ]
    },
    {
      "cell_type": "code",
      "execution_count": null,
      "metadata": {
        "id": "i_zm9Y89jnCh"
      },
      "outputs": [],
      "source": [
        "!cp /content/drive/MyDrive/PROJETOS/data_train.pkl '/content' \n",
        "!cp /content/drive/MyDrive/PROJETOS/labels_train.pkl '/content'  "
      ]
    },
    {
      "cell_type": "code",
      "execution_count": null,
      "metadata": {
        "id": "XJlBMMcelsKq"
      },
      "outputs": [],
      "source": [
        "X_train = pickle.load(open('data_train.pkl', 'rb'))\n",
        "y_train = pickle.load(open('labels_train.pkl', 'rb'))"
      ]
    },
    {
      "cell_type": "markdown",
      "metadata": {
        "id": "AfIOIwXIqGFg"
      },
      "source": [
        "# **NEURAL NETWORK**"
      ]
    },
    {
      "cell_type": "code",
      "execution_count": null,
      "metadata": {
        "id": "mppck1OmqOYO"
      },
      "outputs": [],
      "source": [
        "models = VGG19(input_shape=X_train.shape[1:], weights='imagenet', include_top=False) "
      ]
    },
    {
      "cell_type": "code",
      "execution_count": null,
      "metadata": {
        "colab": {
          "base_uri": "https://localhost:8080/"
        },
        "id": "gEn_ks-artL4",
        "outputId": "8330413c-ca4a-42a8-d535-bd4efbf167fa"
      },
      "outputs": [
        {
          "data": {
            "text/plain": [
              "<KerasTensor: shape=(None, 100, 100, 3) dtype=float32 (created by layer 'input_5')>"
            ]
          },
          "execution_count": 36,
          "metadata": {},
          "output_type": "execute_result"
        }
      ],
      "source": [
        "models.input"
      ]
    },
    {
      "cell_type": "code",
      "execution_count": null,
      "metadata": {
        "id": "fsU2fEbGrw6L"
      },
      "outputs": [],
      "source": [
        "for layer in models.layers: \n",
        "  layer.trainable = False"
      ]
    },
    {
      "cell_type": "code",
      "execution_count": null,
      "metadata": {
        "id": "qEcHUSNNrzR-"
      },
      "outputs": [],
      "source": [
        "x = Flatten()(models.output) \n",
        "prediction = Dense(8, activation='softmax')(x)\n",
        "model = Model(inputs=models.input, outputs=prediction)\n",
        "model.summary()"
      ]
    },
    {
      "cell_type": "code",
      "execution_count": null,
      "metadata": {
        "id": "YaD1_O5zsNJ3"
      },
      "outputs": [],
      "source": [
        "model.compile(optimizer='adam', loss='sparse_categorical_crossentropy', metrics=['accuracy'])"
      ]
    },
    {
      "cell_type": "code",
      "execution_count": null,
      "metadata": {
        "colab": {
          "base_uri": "https://localhost:8080/"
        },
        "id": "maS_Qx_isT9U",
        "outputId": "553540e0-2974-444b-ecb2-2f3c8b3469c9"
      },
      "outputs": [
        {
          "name": "stdout",
          "output_type": "stream",
          "text": [
            "Epoch 1/50\n",
            "230/230 [==============================] - 7s 28ms/step - loss: 1.6909 - accuracy: 0.3524 - val_loss: 1.4413 - val_accuracy: 0.4437\n",
            "Epoch 2/50\n",
            "230/230 [==============================] - 6s 27ms/step - loss: 1.3222 - accuracy: 0.5014 - val_loss: 1.3362 - val_accuracy: 0.4976\n",
            "Epoch 3/50\n",
            "230/230 [==============================] - 6s 27ms/step - loss: 1.1848 - accuracy: 0.5606 - val_loss: 1.2949 - val_accuracy: 0.5204\n",
            "Epoch 4/50\n",
            "230/230 [==============================] - 6s 27ms/step - loss: 1.0760 - accuracy: 0.6030 - val_loss: 1.2364 - val_accuracy: 0.5400\n",
            "Epoch 5/50\n",
            "230/230 [==============================] - 6s 27ms/step - loss: 1.0058 - accuracy: 0.6465 - val_loss: 1.3292 - val_accuracy: 0.5139\n",
            "Epoch 6/50\n",
            "230/230 [==============================] - 6s 27ms/step - loss: 0.9224 - accuracy: 0.6721 - val_loss: 1.2808 - val_accuracy: 0.5188\n",
            "Epoch 7/50\n",
            "230/230 [==============================] - 6s 27ms/step - loss: 0.8920 - accuracy: 0.6683 - val_loss: 1.1518 - val_accuracy: 0.5742\n",
            "Epoch 8/50\n",
            "230/230 [==============================] - 6s 27ms/step - loss: 0.8312 - accuracy: 0.6977 - val_loss: 1.2401 - val_accuracy: 0.5579\n",
            "Epoch 9/50\n",
            "230/230 [==============================] - 6s 27ms/step - loss: 0.7763 - accuracy: 0.7276 - val_loss: 1.1124 - val_accuracy: 0.5824\n",
            "Epoch 10/50\n",
            "230/230 [==============================] - 6s 27ms/step - loss: 0.7359 - accuracy: 0.7499 - val_loss: 1.1696 - val_accuracy: 0.5644\n",
            "Epoch 11/50\n",
            "230/230 [==============================] - 6s 27ms/step - loss: 0.6805 - accuracy: 0.7765 - val_loss: 1.1644 - val_accuracy: 0.5546\n",
            "Epoch 12/50\n",
            "230/230 [==============================] - 6s 27ms/step - loss: 0.6541 - accuracy: 0.7858 - val_loss: 1.0931 - val_accuracy: 0.5954\n",
            "Epoch 13/50\n",
            "230/230 [==============================] - 6s 27ms/step - loss: 0.6261 - accuracy: 0.7950 - val_loss: 1.1319 - val_accuracy: 0.5889\n",
            "Epoch 14/50\n",
            "230/230 [==============================] - 6s 27ms/step - loss: 0.6061 - accuracy: 0.7955 - val_loss: 1.1073 - val_accuracy: 0.6020\n",
            "Epoch 15/50\n",
            "230/230 [==============================] - 6s 27ms/step - loss: 0.5801 - accuracy: 0.7993 - val_loss: 1.1742 - val_accuracy: 0.5595\n",
            "Epoch 16/50\n",
            "230/230 [==============================] - 6s 27ms/step - loss: 0.5411 - accuracy: 0.8309 - val_loss: 1.0656 - val_accuracy: 0.5971\n",
            "Epoch 17/50\n",
            "230/230 [==============================] - 6s 27ms/step - loss: 0.5096 - accuracy: 0.8554 - val_loss: 1.1655 - val_accuracy: 0.5775\n",
            "Epoch 18/50\n",
            "230/230 [==============================] - 6s 27ms/step - loss: 0.4946 - accuracy: 0.8494 - val_loss: 1.2235 - val_accuracy: 0.5546\n",
            "Epoch 19/50\n",
            "230/230 [==============================] - 6s 27ms/step - loss: 0.4890 - accuracy: 0.8515 - val_loss: 1.0668 - val_accuracy: 0.6052\n",
            "Epoch 20/50\n",
            "230/230 [==============================] - 6s 27ms/step - loss: 0.4719 - accuracy: 0.8624 - val_loss: 1.1121 - val_accuracy: 0.6117\n",
            "Epoch 21/50\n",
            "230/230 [==============================] - 6s 27ms/step - loss: 0.4565 - accuracy: 0.8586 - val_loss: 1.1568 - val_accuracy: 0.6003\n",
            "Epoch 22/50\n",
            "230/230 [==============================] - 6s 27ms/step - loss: 0.4142 - accuracy: 0.8793 - val_loss: 1.1594 - val_accuracy: 0.5938\n",
            "Epoch 23/50\n",
            "230/230 [==============================] - 6s 27ms/step - loss: 0.4194 - accuracy: 0.8798 - val_loss: 1.1505 - val_accuracy: 0.5971\n",
            "Epoch 24/50\n",
            "230/230 [==============================] - 6s 27ms/step - loss: 0.3944 - accuracy: 0.8972 - val_loss: 1.0847 - val_accuracy: 0.6069\n",
            "Epoch 25/50\n",
            "230/230 [==============================] - 6s 27ms/step - loss: 0.3941 - accuracy: 0.8918 - val_loss: 1.1313 - val_accuracy: 0.6134\n",
            "Epoch 26/50\n",
            "230/230 [==============================] - 6s 27ms/step - loss: 0.3783 - accuracy: 0.8923 - val_loss: 1.1374 - val_accuracy: 0.5971\n",
            "Epoch 27/50\n",
            "230/230 [==============================] - 6s 27ms/step - loss: 0.3466 - accuracy: 0.9184 - val_loss: 1.0876 - val_accuracy: 0.6264\n",
            "Epoch 28/50\n",
            "230/230 [==============================] - 6s 27ms/step - loss: 0.3320 - accuracy: 0.9152 - val_loss: 1.1587 - val_accuracy: 0.6036\n",
            "Epoch 29/50\n",
            "230/230 [==============================] - 6s 27ms/step - loss: 0.3115 - accuracy: 0.9288 - val_loss: 1.0630 - val_accuracy: 0.6395\n",
            "Epoch 30/50\n",
            "230/230 [==============================] - 6s 27ms/step - loss: 0.3010 - accuracy: 0.9299 - val_loss: 1.1680 - val_accuracy: 0.5742\n",
            "Epoch 31/50\n",
            "230/230 [==============================] - 6s 27ms/step - loss: 0.2817 - accuracy: 0.9413 - val_loss: 1.2369 - val_accuracy: 0.6020\n",
            "Epoch 32/50\n",
            "230/230 [==============================] - 6s 27ms/step - loss: 0.2816 - accuracy: 0.9413 - val_loss: 1.1077 - val_accuracy: 0.6150\n",
            "Epoch 33/50\n",
            "230/230 [==============================] - 6s 27ms/step - loss: 0.2535 - accuracy: 0.9538 - val_loss: 1.2286 - val_accuracy: 0.5889\n",
            "Epoch 34/50\n",
            "230/230 [==============================] - 6s 27ms/step - loss: 0.2673 - accuracy: 0.9440 - val_loss: 1.1862 - val_accuracy: 0.6150\n",
            "Epoch 35/50\n",
            "230/230 [==============================] - 6s 27ms/step - loss: 0.2728 - accuracy: 0.9342 - val_loss: 1.1169 - val_accuracy: 0.6264\n",
            "Epoch 36/50\n",
            "230/230 [==============================] - 6s 27ms/step - loss: 0.2407 - accuracy: 0.9532 - val_loss: 1.1589 - val_accuracy: 0.6166\n",
            "Epoch 37/50\n",
            "230/230 [==============================] - 6s 28ms/step - loss: 0.2327 - accuracy: 0.9554 - val_loss: 1.1757 - val_accuracy: 0.6101\n",
            "Epoch 38/50\n",
            "230/230 [==============================] - 6s 27ms/step - loss: 0.2235 - accuracy: 0.9554 - val_loss: 1.1130 - val_accuracy: 0.6215\n",
            "Epoch 39/50\n",
            "230/230 [==============================] - 6s 28ms/step - loss: 0.2084 - accuracy: 0.9663 - val_loss: 1.1151 - val_accuracy: 0.6232\n",
            "Epoch 40/50\n",
            "230/230 [==============================] - 6s 28ms/step - loss: 0.1950 - accuracy: 0.9695 - val_loss: 1.1803 - val_accuracy: 0.6199\n",
            "Epoch 41/50\n",
            "230/230 [==============================] - 6s 28ms/step - loss: 0.2024 - accuracy: 0.9685 - val_loss: 1.1937 - val_accuracy: 0.6117\n",
            "Epoch 42/50\n",
            "230/230 [==============================] - 6s 28ms/step - loss: 0.1850 - accuracy: 0.9728 - val_loss: 1.1363 - val_accuracy: 0.6085\n",
            "Epoch 43/50\n",
            "230/230 [==============================] - 6s 28ms/step - loss: 0.1842 - accuracy: 0.9728 - val_loss: 1.2905 - val_accuracy: 0.5954\n",
            "Epoch 44/50\n",
            "230/230 [==============================] - 6s 28ms/step - loss: 0.1825 - accuracy: 0.9734 - val_loss: 1.1136 - val_accuracy: 0.6297\n",
            "Epoch 45/50\n",
            "230/230 [==============================] - 6s 28ms/step - loss: 0.1654 - accuracy: 0.9810 - val_loss: 1.1833 - val_accuracy: 0.6215\n",
            "Epoch 46/50\n",
            "230/230 [==============================] - 6s 28ms/step - loss: 0.1690 - accuracy: 0.9793 - val_loss: 1.1457 - val_accuracy: 0.6427\n",
            "Epoch 47/50\n",
            "230/230 [==============================] - 6s 28ms/step - loss: 0.1599 - accuracy: 0.9826 - val_loss: 1.1664 - val_accuracy: 0.5987\n",
            "Epoch 48/50\n",
            "230/230 [==============================] - 6s 28ms/step - loss: 0.1583 - accuracy: 0.9799 - val_loss: 1.1581 - val_accuracy: 0.6166\n",
            "Epoch 49/50\n",
            "230/230 [==============================] - 6s 28ms/step - loss: 0.1416 - accuracy: 0.9842 - val_loss: 1.2051 - val_accuracy: 0.6264\n",
            "Epoch 50/50\n",
            "230/230 [==============================] - 6s 28ms/step - loss: 0.1467 - accuracy: 0.9826 - val_loss: 1.1607 - val_accuracy: 0.6117\n"
          ]
        }
      ],
      "source": [
        "history = model.fit(X_train, y_train, batch_size=8, epochs = 50, validation_split=0.25)"
      ]
    },
    {
      "cell_type": "code",
      "execution_count": null,
      "metadata": {
        "colab": {
          "base_uri": "https://localhost:8080/",
          "height": 295
        },
        "id": "47xurb3Av39p",
        "outputId": "0b9ea8d5-1a40-4d43-aa00-1de8d6a49a3b"
      },
      "outputs": [
        {
          "data": {
            "image/png": "[encoded data removed]",
            "text/plain": [
              "<Figure size 432x288 with 1 Axes>"
            ]
          },
          "metadata": {
            "needs_background": "light"
          },
          "output_type": "display_data"
        }
      ],
      "source": [
        "plt.plot(history.history['accuracy'])\n",
        "plt.plot(history.history['val_accuracy'])\n",
        "plt.title('model accuracy')\n",
        "plt.ylabel('accuracy')\n",
        "plt.xlabel('epoch')\n",
        "plt.legend(['train', 'val'], loc='upper left')\n",
        "plt.show()"
      ]
    },
    {
      "cell_type": "code",
      "execution_count": null,
      "metadata": {
        "colab": {
          "base_uri": "https://localhost:8080/",
          "height": 295
        },
        "id": "EY-dm8z2wA88",
        "outputId": "05e79c3b-a363-4ce7-de70-9d48797a8303"
      },
      "outputs": [
        {
          "data": {
            "image/png": "[encoded data removed]",
            "text/plain": [
              "<Figure size 432x288 with 1 Axes>"
            ]
          },
          "metadata": {
            "needs_background": "light"
          },
          "output_type": "display_data"
        }
      ],
      "source": [
        "plt.plot(history.history['loss'])\n",
        "plt.plot(history.history['val_loss'])\n",
        "plt.title('model loss')\n",
        "plt.ylabel('loss')\n",
        "plt.xlabel('epoch')\n",
        "plt.legend(['train', 'val'], loc='upper left')\n",
        "plt.show()"
      ]
    },
    {
      "cell_type": "code",
      "execution_count": null,
      "metadata": {
        "colab": {
          "base_uri": "https://localhost:8080/"
        },
        "id": "6pklYT8iJh1Z",
        "outputId": "1fbd06df-297a-43ce-db4e-5e5112e9b247"
      },
      "outputs": [
        {
          "name": "stderr",
          "output_type": "stream",
          "text": [
            "/usr/local/lib/python3.8/dist-packages/librosa/core/audio.py:165: UserWarning: PySoundFile failed. Trying audioread instead.\n",
            "  warnings.warn(\"PySoundFile failed. Trying audioread instead.\")\n"
          ]
        },
        {
          "name": "stdout",
          "output_type": "stream",
          "text": [
            "1/1 [==============================] - 0s 54ms/step\n",
            "surprised\n"
          ]
        }
      ],
      "source": [
        "IMG_SIZE = 100\n",
        "classes = ['neutral','calm','happy','sad','angry','fear','disgust','surprised']\n",
        "aud = '/content/surprised.ogg'\n",
        "\n",
        "X, sample_rate = librosa.load(aud, res_type='kaiser_fast')\n",
        "mel_spec = librosa.feature.melspectrogram(y=X, sr=sample_rate, n_mels= 320)\n",
        "mel_db = (librosa.power_to_db(mel_spec, ref=np.max) + 40)/40\n",
        "img = cv2.resize(mel_db,(100,100))\n",
        "img = cv2.cvtColor(img,cv2.COLOR_GRAY2RGB)\n",
        "image = img.reshape(-1,100,100,3)\n",
        "prediction = model.predict(image)\n",
        "label = classes[np.argmax(prediction)]\n",
        "print(label)"
      ]
    },
    {
      "cell_type": "code",
      "execution_count": null,
      "metadata": {},
      "outputs": [],
      "source": [
        "import tensorflow as tf\n",
        "IMG_SIZE = 100\n",
        "classes = ['neutral','happy','sad','angry','fear']\n",
        "#aud = '/content/TESTE_MODEL/angry/OAF_back_angry.wav'\n",
        "#aud = \"/content/TESTE_MODEL/fear/OAF_back_fear.wav\"\n",
        "aud = \"D:\\speech_emotion\\happy.ogg\"\n",
        "\n",
        "model = tf.keras.models.load_model('D:\\speech_emotion\\Audio_model.h5')\n",
        "#classes = ['neutral','happy','sad','angry','fear']\n",
        "\n",
        "X, sample_rate = librosa.load(aud, res_type='kaiser_fast')\n",
        "mel_spec = librosa.feature.melspectrogram(y=X, sr=sample_rate, n_mels= 320)\n",
        "mel_db = (librosa.power_to_db(mel_spec, ref=np.max) + 40)/40\n",
        "img = cv2.resize(mel_db,(100,100))\n",
        "img = cv2.cvtColor(img,cv2.COLOR_GRAY2RGB)\n",
        "image = img.reshape(-1,100,100,3)\n",
        "prediction = model.predict(image)\n",
        "label = classes[np.argmax(prediction)]\n",
        "print(label)"
      ]
    },
    {
      "cell_type": "code",
      "execution_count": null,
      "metadata": {
        "colab": {
          "base_uri": "https://localhost:8080/"
        },
        "id": "GHkCrUZuRrav",
        "outputId": "521adfce-7771-418f-ca98-77eab78c5279"
      },
      "outputs": [
        {
          "name": "stdout",
          "output_type": "stream",
          "text": [
            "MODEL SAVED\n"
          ]
        }
      ],
      "source": [
        "model.save('Audio_model.h5')\n",
        "!cp Audio_model.h5 '/content/drive/MyDrive/PROJETOS'\n",
        "print(\"MODEL SAVED\")"
      ]
    }
  ],
  "metadata": {
    "accelerator": "GPU",
    "colab": {
      "authorship_tag": "ABX9TyNNwe2oGEgvVp4lkvyG3DVy",
      "mount_file_id": "1jSh6L58rZ-GEfn4v61tMwt_dNKtzExOB",
      "provenance": []
    },
    "gpuClass": "standard",
    "kernelspec": {
      "display_name": "Python 3",
      "name": "python3"
    },
    "language_info": {
      "name": "python"
    }
  },
  "nbformat": 4,
  "nbformat_minor": 0
}
